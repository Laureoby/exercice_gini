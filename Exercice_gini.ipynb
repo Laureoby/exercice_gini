{
 "cells": [
  {
   "cell_type": "code",
   "execution_count": 2,
   "id": "95b2ae2f-c7b2-4899-a61a-6f576826883b",
   "metadata": {},
   "outputs": [
    {
     "name": "stdin",
     "output_type": "stream",
     "text": [
      " 1 0 1 0 1 0\n",
      " 1 1 1\n",
      " 0 0 0\n"
     ]
    },
    {
     "name": "stdout",
     "output_type": "stream",
     "text": [
      "0.5\n"
     ]
    }
   ],
   "source": [
    "#Calcul de gini de sololearn\n",
    "def calculate_gini(pos, neg):\n",
    "    total = pos + neg\n",
    "    if total == 0:\n",
    "        return 0\n",
    "    p = pos / total\n",
    "    n = neg / total\n",
    "    return 2 * p * n\n",
    "\n",
    "def information_gain(S, A, B):\n",
    "    # Calculer Gini(S)\n",
    "    pos_S = sum(S)\n",
    "    neg_S = len(S) - pos_S\n",
    "    gini_S = calculate_gini(pos_S, neg_S)\n",
    "    \n",
    "    # Calculer Gini(A)\n",
    "    pos_A = sum(A)\n",
    "    neg_A = len(A) - pos_A\n",
    "    gini_A = calculate_gini(pos_A, neg_A)\n",
    "    \n",
    "    # Calculer Gini(B)\n",
    "    pos_B = sum(B)\n",
    "    neg_B = len(B) - pos_B\n",
    "    gini_B = calculate_gini(pos_B, neg_B)\n",
    "    \n",
    "    # Calculer le gain d'information\n",
    "    total_S = len(S)\n",
    "    weight_A = len(A) / total_S\n",
    "    weight_B = len(B) / total_S\n",
    "    gain = gini_S - (weight_A * gini_A + weight_B * gini_B)\n",
    "\n",
    "    #retourner une valeur arrondi\n",
    "    return round(gain, 5)\n",
    "\n",
    "# Exemple d'utilisation\n",
    "S = [int(x) for x in input().split()]\n",
    "A = [int(x) for x in input().split()]\n",
    "B = [int(x) for x in input().split()]\n",
    "\n",
    "gain = information_gain(S, A, B)\n",
    "print(gain)"
   ]
  },
  {
   "cell_type": "code",
   "execution_count": null,
   "id": "c010ef9c-5e2e-4647-8488-944b04affb90",
   "metadata": {},
   "outputs": [],
   "source": []
  }
 ],
 "metadata": {
  "kernelspec": {
   "display_name": "Python 3 (ipykernel)",
   "language": "python",
   "name": "python3"
  },
  "language_info": {
   "codemirror_mode": {
    "name": "ipython",
    "version": 3
   },
   "file_extension": ".py",
   "mimetype": "text/x-python",
   "name": "python",
   "nbconvert_exporter": "python",
   "pygments_lexer": "ipython3",
   "version": "3.8.10"
  }
 },
 "nbformat": 4,
 "nbformat_minor": 5
}
